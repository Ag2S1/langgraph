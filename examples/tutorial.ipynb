{
 "cells": [
  {
   "cell_type": "markdown",
   "id": "4a1aae78-88a6-4133-b905-7e46c8e3772f",
   "metadata": {},
   "source": [
    "# Introduction to LangGraph\n",
    "\n",
    "In this tutorial, we'll build a customer support chatbot. We'll start with a simple model and gradually add more functionality, introducing key LangGraph concepts along the way. By the end, you will have built a chat bot that can:\n",
    "\n",
    "- Answer common questions by searching a knowledge base\n",
    "- Route complex queries to a human agent for review\n",
    "- Maintain conversation state across sessions\n",
    "\n",
    "Through the process, we will learn key LangGraph concepts like graph construction, edges, human-in-the-loop workflow, and persistence.\n",
    "\n",
    "## Setup\n",
    "\n",
    "First, install the required packages:"
   ]
  },
  {
   "cell_type": "code",
   "execution_count": 2,
   "id": "6f11d631-8679-4f28-822f-cdf1f2ddc21c",
   "metadata": {},
   "outputs": [],
   "source": [
    "%%capture --no-stderr\n",
    "%pip install -U langgraph langsmith\n",
    "\n",
    "# Used for this tutorial; not a requirement for LangGraph\n",
    "%pip install -U langchain langchain_anthropic"
   ]
  },
  {
   "cell_type": "markdown",
   "id": "a6d1e870-1bc0-4d44-86c0-96681ccf6113",
   "metadata": {},
   "source": [
    "Next, set your API keys:"
   ]
  },
  {
   "cell_type": "code",
   "execution_count": 4,
   "id": "705d4020-6ee8-44cc-b1a5-8c34e7172fc7",
   "metadata": {},
   "outputs": [],
   "source": [
    "import getpass\n",
    "import os\n",
    "\n",
    "\n",
    "def _set_env(var: str):\n",
    "    if not os.environ.get(var):\n",
    "        os.environ[var] = getpass.getpass(f\"{var}: \")\n",
    "\n",
    "\n",
    "_set_env(\"ANTHROPIC_API_KEY\")"
   ]
  },
  {
   "cell_type": "markdown",
   "id": "a98c72cf-33f9-4a37-9634-6c93a7c28815",
   "metadata": {},
   "source": [
    "(Encouraged) [LangSmith](https://smith.langchain.com/) makes it a lot easier to see what's going on \"under the hood.\""
   ]
  },
  {
   "cell_type": "code",
   "execution_count": 140,
   "id": "13cba9af-0572-41df-92f8-d6f56d5b5322",
   "metadata": {},
   "outputs": [],
   "source": [
    "_set_env(\"LANGSMITH_API_KEY\")\n",
    "os.environ[\"LANGCHAIN_TRACING_V2\"] = \"true\""
   ]
  },
  {
   "cell_type": "markdown",
   "id": "ef7bcad1-1274-4b7c-a2e9-365180ef3a31",
   "metadata": {},
   "source": [
    "## Part 1: Build a Chat Bot\n",
    "\n",
    "Let's first create a basic chat bot in LangGraph. The chat bot can respond to user messages and maintain a basic chat history.\n",
    "\n",
    "First, create a `MessageGraph`. We will later add `nodes` and `edges` to this object to define how we want to chat bot to behave. "
   ]
  },
  {
   "cell_type": "code",
   "execution_count": 26,
   "id": "e58df974-7579-4f25-9d91-66389b94eba2",
   "metadata": {},
   "outputs": [],
   "source": [
    "from langgraph.graph import MessageGraph\n",
    "\n",
    "graph_builder = MessageGraph()"
   ]
  },
  {
   "cell_type": "markdown",
   "id": "4137feed-746e-4c72-a34a-f7a699ad5dcf",
   "metadata": {},
   "source": [
    "Next, add a \"`chatbot`\" node."
   ]
  },
  {
   "cell_type": "code",
   "execution_count": 27,
   "id": "bc8c9137-8261-42ea-8e83-3590981d23e2",
   "metadata": {},
   "outputs": [],
   "source": [
    "from langchain_anthropic import ChatAnthropic\n",
    "\n",
    "chatbot = ChatAnthropic(model=\"claude-3-haiku-20240307\")\n",
    "# The first argument is the unique node name\n",
    "# The second argument is the function or object that will be called whenever\n",
    "# the node is used.\n",
    "graph_builder.add_node(\"chatbot\", chatbot)"
   ]
  },
  {
   "cell_type": "markdown",
   "id": "b6c1dcd9-fb86-4649-81b4-ff6ce20a2e46",
   "metadata": {},
   "source": [
    "Next, add a `entry` point. This tells our graph where to start its work any time we run it."
   ]
  },
  {
   "cell_type": "code",
   "execution_count": 28,
   "id": "e331e10d-ebcf-4144-9bd3-999b4d656dd3",
   "metadata": {},
   "outputs": [],
   "source": [
    "graph_builder.set_entry_point(\"chatbot\")"
   ]
  },
  {
   "cell_type": "markdown",
   "id": "0499c318-d1e6-46fa-a652-8f9e65313355",
   "metadata": {},
   "source": [
    "Similarly, set a `finish` point. This tells the graph \"any time this node is run, you can exit.\""
   ]
  },
  {
   "cell_type": "code",
   "execution_count": 31,
   "id": "075f0929-3591-4852-b2d3-eaadde40662d",
   "metadata": {},
   "outputs": [],
   "source": [
    "graph_builder.set_finish_point(\"chatbot\")"
   ]
  },
  {
   "cell_type": "markdown",
   "id": "65a9b88c-2c53-4d95-8eb1-d544a8946f65",
   "metadata": {},
   "source": [
    "Finally, let's \"compile\" the graph. This creates a \"CompiledGraph\" we then run."
   ]
  },
  {
   "cell_type": "code",
   "execution_count": 32,
   "id": "0bb67a01-cf5c-4625-8c07-6e8c0af50fca",
   "metadata": {},
   "outputs": [],
   "source": [
    "graph = graph_builder.compile()"
   ]
  },
  {
   "cell_type": "markdown",
   "id": "a98097a3-a126-4081-b21e-697ec1185fff",
   "metadata": {},
   "source": [
    "Now let's run the chatbot!"
   ]
  },
  {
   "cell_type": "code",
   "execution_count": 35,
   "id": "7afb4c9a-7404-4e92-9945-36f372015f08",
   "metadata": {},
   "outputs": [
    {
     "name": "stdin",
     "output_type": "stream",
     "text": [
      "User:  Hi\n"
     ]
    },
    {
     "name": "stdout",
     "output_type": "stream",
     "text": [
      "Assistant: Hello! How can I assist you today?\n"
     ]
    },
    {
     "name": "stdin",
     "output_type": "stream",
     "text": [
      "User:  I'm learning about langgraph. What are you up to?\n"
     ]
    },
    {
     "name": "stdout",
     "output_type": "stream",
     "text": [
      "Assistant: I don't have any specific plans or activities. As an AI assistant, I'm here to have conversations and provide helpful information to you to the best of my abilities. What would you like to discuss regarding langgraph or anything else? I'm happy to chat and share what I know.\n"
     ]
    },
    {
     "name": "stdin",
     "output_type": "stream",
     "text": [
      "User:  q\n"
     ]
    },
    {
     "name": "stdout",
     "output_type": "stream",
     "text": [
      "Goodbye!\n"
     ]
    }
   ],
   "source": [
    "while True:\n",
    "    user_input = input(\"User: \")\n",
    "    if user_input.lower() in [\"quit\", \"exit\", \"q\"]:\n",
    "        print(\"Goodbye!\")\n",
    "        break\n",
    "    for event in graph.stream((\"user\", user_input)):\n",
    "        for value in event.values():\n",
    "            print(\"Assistant:\", value.content)"
   ]
  },
  {
   "cell_type": "markdown",
   "id": "98e1cdb5-869a-41ea-9dab-e28cfc524499",
   "metadata": {},
   "source": [
    "Congrats! You've built a simple chatbot using LangGraph. You can visualize the graph using the `get_graph` and one of the `draw_ascii` or `draw_png` methods (though `draw_png` comes with some other dependencies)."
   ]
  },
  {
   "cell_type": "code",
   "execution_count": 37,
   "id": "07e2d8fc-349f-4bdc-bb7e-92481703ad39",
   "metadata": {},
   "outputs": [
    {
     "data": {
      "image/png": "[encoded data removed]",
      "text/plain": [
       "<IPython.core.display.Image object>"
      ]
     },
     "execution_count": 37,
     "metadata": {},
     "output_type": "execute_result"
    }
   ],
   "source": [
    "try:\n",
    "    display(Image(graph.get_graph().draw_mermaid_png()))\n",
    "except:\n",
    "    # This requires some extra dependencies and is optional\n",
    "    pass"
   ]
  },
  {
   "cell_type": "markdown",
   "id": "9dedf5c7-3052-4957-8117-84a1a87e1f8d",
   "metadata": {},
   "source": [
    "Below is the full code for this section for reference:\n",
    "\n",
    "```python\n",
    "from langgraph.graph import MessageGraph\n",
    "from langchain_anthropic import ChatAnthropic\n",
    "\n",
    "graph_builder = MessageGraph()\n",
    "\n",
    "chatbot = ChatAnthropic(model=\"claude-3-haiku-20240307\")\n",
    "# The first argument is the unique node name\n",
    "# The second argument is the function or object that will be called whenever\n",
    "# the node is used.\n",
    "graph_builder.add_node(\"chatbot\", chatbot)\n",
    "graph_builder.set_entry_point(\"chatbot\")\n",
    "graph_builder.set_finish_point(\"chatbot\")\n",
    "graph = graph_builder.compile()\n",
    "```"
   ]
  },
  {
   "cell_type": "markdown",
   "id": "f22c5d4a-3134-413c-81fe-dd9752fbeb66",
   "metadata": {},
   "source": [
    "## Part 2: Add Tools\n",
    "\n",
    "Our chat bot needs relevant, up-to-date information to helpfully assist our users. This means it needs to access a search engine, database, or other type of retriever.\n",
    "\n",
    "For our tutorial, we will give our chat bot the option to query a general web search engine to answer questions.\n",
    "\n",
    "#### Requirements\n",
    "\n",
    "First, install the requirements to use the [Tavily Search Engine](https://python.langchain.com/docs/integrations/tools/tavily_search/), and set your [TAVILY_API_KEY](https://tavily.com/)."
   ]
  },
  {
   "cell_type": "code",
   "execution_count": null,
   "id": "7451151f-41fc-4af0-9359-024ae51b7225",
   "metadata": {},
   "outputs": [],
   "source": [
    "%%capture --no-stderr\n",
    "%pip install -U tavily-python"
   ]
  },
  {
   "cell_type": "code",
   "execution_count": null,
   "id": "0c52923c-5665-4f8c-a1ba-9799e369c49e",
   "metadata": {},
   "outputs": [],
   "source": [
    "_set_env(\"TAVILY_API_KEY\")"
   ]
  },
  {
   "cell_type": "markdown",
   "id": "591ce9ba-c431-4165-b815-25c944ef7cdb",
   "metadata": {},
   "source": [
    "Next, define the tool:"
   ]
  },
  {
   "cell_type": "code",
   "execution_count": 78,
   "id": "35c8978e-c07d-4dd0-a97b-0ce3a723eea5",
   "metadata": {},
   "outputs": [
    {
     "data": {
      "text/plain": [
       "[{'url': 'https://medium.com/@cplog/introduction-to-langgraph-a-beginners-guide-14f9be027141',\n",
       "  'content': 'Nodes: Nodes are the building blocks of your LangGraph. Each node represents a function or a computation step. You define nodes to perform specific tasks, such as processing input, making ...'},\n",
       " {'url': 'https://langchain-ai.github.io/langgraph/tutorials/chat_agent_executor_with_function_calling/prebuilt-tool-node/',\n",
       "  'content': 'Define the nodes. We now need to define a few different nodes in our graph. In langgraph, a node can be either a function or a runnable . There are two main nodes we need for this: The agent: responsible for deciding what (if any) actions to take. MODIFICATION The prebuilt ToolNode, given the list of tools.'}]"
      ]
     },
     "execution_count": 78,
     "metadata": {},
     "output_type": "execute_result"
    }
   ],
   "source": [
    "from langchain_community.tools.tavily_search import TavilySearchResults\n",
    "\n",
    "tool = TavilySearchResults(max_results=2)\n",
    "tools = [tool]\n",
    "tool.invoke(\"What's a 'node' in LangGraph?\")"
   ]
  },
  {
   "cell_type": "markdown",
   "id": "7f503f02-d23d-42e8-9b5d-eb2681b242f4",
   "metadata": {},
   "source": [
    "Next, we'll start defining our graph. The following is all the same as in Part 1, except we have called `bind_tools` on our LLM. This lets it know the correct schema to return if it wants to use our search engine."
   ]
  },
  {
   "cell_type": "code",
   "execution_count": 82,
   "id": "dc5af88b-47d2-43bf-9a2c-6c07506b1732",
   "metadata": {},
   "outputs": [],
   "source": [
    "from langchain_anthropic import ChatAnthropic\n",
    "\n",
    "from langgraph.graph import MessageGraph\n",
    "\n",
    "graph_builder = MessageGraph()\n",
    "\n",
    "chatbot = ChatAnthropic(model=\"claude-3-haiku-20240307\")\n",
    "graph_builder.add_node(\"chatbot\", chatbot.bind_tools(tools))"
   ]
  },
  {
   "cell_type": "markdown",
   "id": "d1e84cfc-b1b2-48e3-8550-152a408c3926",
   "metadata": {},
   "source": [
    "Now we'll add the tools to a new node. The `ToolNode` is a helper class in LangGraph that `invoke`'s the selected tools whenever the LLM responds with 1 or more tool calls. It relies on `tool_calling` support, which is available in Anthropic, OpenAI, Google Gemini, and a number of other LLM providers."
   ]
  },
  {
   "cell_type": "code",
   "execution_count": 83,
   "id": "12f1fc14-cd91-4cd4-9f2e-1d007f8beafc",
   "metadata": {},
   "outputs": [],
   "source": [
    "from langgraph.prebuilt import ToolNode\n",
    "\n",
    "tool_node = ToolNode(tools=[tool])\n",
    "graph_builder.add_node(\"action\", tool_node)"
   ]
  },
  {
   "cell_type": "markdown",
   "id": "b049afc4-7757-40ba-8e00-589d378e816d",
   "metadata": {},
   "source": [
    "With the tool node added, we can define the conditional graph logic. If the LLM decides to call a tool, we will route to the \"action\" node. Otherwise, we will route to the \"`__end__`\" of the graph (equivalent to the finish point above) to respond to the user."
   ]
  },
  {
   "cell_type": "code",
   "execution_count": 84,
   "id": "d662df94-66ac-4c6c-92f0-4c93620f1c74",
   "metadata": {},
   "outputs": [],
   "source": [
    "def tools_called(state: list):\n",
    "    # In MessageGraph, the 'state' is a list of chat messages\n",
    "    ai_message = state[-1]\n",
    "    if hasattr(ai_message, \"tool_calls\") and len(ai_message.tool_calls) > 0:\n",
    "        return \"action\"\n",
    "    return \"__end__\"\n",
    "\n",
    "\n",
    "# Any time the chatbot responds, we will have to decide whether to\n",
    "# act (call the search engine) or end\n",
    "graph_builder.add_conditional_edges(\"chatbot\", tools_called)\n",
    "# Any time a tool is called, we return to the chatbot to decide the next step\n",
    "graph_builder.add_edge(\"action\", \"chatbot\")\n",
    "graph_builder.set_entry_point(\"chatbot\")\n",
    "graph = graph_builder.compile()"
   ]
  },
  {
   "cell_type": "markdown",
   "id": "a2aa67c2-dd1b-4bf2-8c64-eea44296d15f",
   "metadata": {},
   "source": [
    "Notice that the function we provide the `conditional_edge` accepts the graph's `state` (in our case, a list of messages) and returns with logic that determines the next node to call.\n",
    "\n",
    "We also have to add a simple directed edge back from `action` to `chatbot` so that the LLM can decide what to do next.\n",
    "\n",
    "Since we return \"__end__\" in the conditional edge, we don't have to explicitly set the `finish_point` this time (our graph already has a way to finish).\n",
    "\n",
    "Let's visualize the graph we've built. The following function"
   ]
  },
  {
   "cell_type": "code",
   "execution_count": 85,
   "id": "8b49509c-9d97-457c-a76a-c495fb30ccbc",
   "metadata": {},
   "outputs": [
    {
     "data": {
      "image/jpeg": "[encoded data removed]",
      "text/plain": [
       "<IPython.core.display.Image object>"
      ]
     },
     "metadata": {},
     "output_type": "display_data"
    }
   ],
   "source": [
    "try:\n",
    "    display(Image(graph.get_graph().draw_mermaid_png()))\n",
    "except:\n",
    "    # This requires some extra dependencies and is optional\n",
    "    pass"
   ]
  },
  {
   "cell_type": "markdown",
   "id": "c59593ef-5073-4279-931e-828dae971f23",
   "metadata": {},
   "source": [
    "Now we can ask the bot questions about current information."
   ]
  },
  {
   "cell_type": "code",
   "execution_count": 87,
   "id": "051dc374-67cc-4371-9dd1-221e07593148",
   "metadata": {},
   "outputs": [
    {
     "name": "stdin",
     "output_type": "stream",
     "text": [
      "User:  Hi there\n"
     ]
    },
    {
     "name": "stdout",
     "output_type": "stream",
     "text": [
      "Assistant: Hello! How can I assist you today?\n"
     ]
    },
    {
     "name": "stdin",
     "output_type": "stream",
     "text": [
      "User:  Trying to learn langgraph. Know anything on the subject?\n"
     ]
    },
    {
     "name": "stdout",
     "output_type": "stream",
     "text": [
      "Assistant: [{'id': 'toolu_01D3uPT35HLYwWZoekhn3Kzx', 'input': {'query': 'langgraph'}, 'name': 'tavily_search_results_json', 'type': 'tool_use'}]\n",
      "Assistant: Based on the search results, here's what I've learned about langgraph:\n",
      "\n",
      "Langgraph is a library that extends the LangChain framework to enable the creation of multi-agent workflows and stateful applications using large language models (LLMs). Some key things about langgraph:\n",
      "\n",
      "- It allows for the coordination of multiple LLM-powered \"agents\" or chains across multiple steps of computation, including cycles and feedback loops. This is in contrast to the more linear workflows of the basic LangChain AgentExecutor.\n",
      "\n",
      "- It is integrated with the broader LangChain ecosystem, allowing you to leverage LangChain's various integrations and observability features.\n",
      "\n",
      "- It provides runtimes and examples that demonstrate how to set up these multi-agent workflows, including examples of message passing between agents.\n",
      "\n",
      "- Langgraph is available in both Python and JavaScript, making it usable across different LLM-powered application development environments.\n",
      "\n",
      "Overall, langgraph seems to be a useful library for building more complex, multi-faceted applications and workflows using large language models, beyond what is possible with the standard LangChain tooling. It enables the kind of cyclical, interactive agent-based architectures that are common in modern AI assistants and chatbots.\n"
     ]
    },
    {
     "name": "stdin",
     "output_type": "stream",
     "text": [
      "User:  q\n"
     ]
    },
    {
     "name": "stdout",
     "output_type": "stream",
     "text": [
      "Goodbye!\n"
     ]
    }
   ],
   "source": [
    "from langchain_core.messages import BaseMessage\n",
    "\n",
    "while True:\n",
    "    user_input = input(\"User: \")\n",
    "    if user_input.lower() in [\"quit\", \"exit\", \"q\"]:\n",
    "        print(\"Goodbye!\")\n",
    "        break\n",
    "    for event in graph.stream((\"user\", user_input)):\n",
    "        for value in event.values():\n",
    "            if isinstance(value, BaseMessage):\n",
    "                print(\"Assistant:\", value.content)"
   ]
  },
  {
   "cell_type": "markdown",
   "id": "89da9e85-2e5d-49c2-8cbd-572cbdb89135",
   "metadata": {},
   "source": [
    "**Congrats!** You've created a conversational agent in langgraph by adding tools to your bot. The full code for the graph we've created in this section is reproduced below:\n",
    "\n",
    "```python\n",
    "from langchain_anthropic import ChatAnthropic\n",
    "from langchain_community.tools.tavily_search import TavilySearchResults\n",
    "\n",
    "from langgraph.graph import MessageGraph\n",
    "from langgraph.prebuilt import ToolNode\n",
    "\n",
    "tool = TavilySearchResults(max_results=2)\n",
    "tools = [tool]\n",
    "\n",
    "\n",
    "graph_builder = MessageGraph()\n",
    "\n",
    "chatbot = ChatAnthropic(model=\"claude-3-haiku-20240307\")\n",
    "graph_builder.add_node(\"chatbot\", chatbot.bind_tools(tools))\n",
    "\n",
    "tool_node = ToolNode(tools=[tool])\n",
    "graph_builder.add_node(\"action\", tool_node)\n",
    "\n",
    "\n",
    "def tools_called(state: list):\n",
    "    ai_message = state[-1]\n",
    "    if hasattr(ai_message, \"tool_calls\") and len(ai_message.tool_calls) > 0:\n",
    "        return \"action\"\n",
    "    return \"__end__\"\n",
    "\n",
    "\n",
    "graph_builder.add_conditional_edges(\"chatbot\", tools_called)\n",
    "graph_builder.add_edge(\"action\", \"chatbot\")\n",
    "graph_builder.set_entry_point(\"chatbot\")\n",
    "graph = graph_builder.compile()\n",
    "```"
   ]
  },
  {
   "cell_type": "markdown",
   "id": "ae45f2aa-396f-4f3f-848b-7750611617f8",
   "metadata": {},
   "source": [
    "## Part 3: Checkpointing\n",
    "\n",
    "Our chat bot can now handle chit chat and use tools to respond to questions, but what happens if an error happens midway? Or what if a user wants to pick up mid-conversation, ignoring some of the later steps?\n",
    "\n",
    "LangGraph handles this by letting you `persist` state on each graph transition through a configurable checkpointer.\n",
    "\n",
    "Any time you provide a checkpointer, you can call your graph along with a `thread_id`. Checkpoints are automatically loaded for each subsequent interaction with the graph within that `thread`.\n",
    "\n",
    "First, create a checkpointer."
   ]
  },
  {
   "cell_type": "code",
   "execution_count": 150,
   "id": "6baafdf6-6803-4305-9381-9dc970468a4d",
   "metadata": {},
   "outputs": [],
   "source": [
    "from langgraph.checkpoint.sqlite import SqliteSaver\n",
    "\n",
    "memory = SqliteSaver.from_conn_string(\":memory:\")"
   ]
  },
  {
   "cell_type": "markdown",
   "id": "08d3d11a-1b42-4cbb-8e11-2a4294263d90",
   "metadata": {},
   "source": [
    "Notice that we've specified `:memory` as the Sqlite DB path. This is convenient for our tutorial, but in a real application, you would change this to an existing DB and/or use one of the other checkpointer classes.\n",
    "\n",
    "Next define the graph. This is all copied from Part 2."
   ]
  },
  {
   "cell_type": "code",
   "execution_count": 151,
   "id": "e6a51f1e-00de-4701-8931-de8cf19294ae",
   "metadata": {},
   "outputs": [],
   "source": [
    "from langchain_anthropic import ChatAnthropic\n",
    "from langchain_community.tools.tavily_search import TavilySearchResults\n",
    "\n",
    "from langgraph.graph import MessageGraph\n",
    "from langgraph.prebuilt import ToolNode\n",
    "\n",
    "tool = TavilySearchResults(max_results=2)\n",
    "tools = [tool]\n",
    "\n",
    "\n",
    "graph_builder = MessageGraph()\n",
    "\n",
    "chatbot = ChatAnthropic(model=\"claude-3-haiku-20240307\")\n",
    "graph_builder.add_node(\"chatbot\", chatbot.bind_tools(tools))\n",
    "\n",
    "tool_node = ToolNode(tools=[tool])\n",
    "graph_builder.add_node(\"action\", tool_node)\n",
    "\n",
    "\n",
    "def tools_called(state: list):\n",
    "    ai_message = state[-1]\n",
    "    if hasattr(ai_message, \"tool_calls\") and len(ai_message.tool_calls) > 0:\n",
    "        return \"action\"\n",
    "    return \"__end__\"\n",
    "\n",
    "\n",
    "graph_builder.add_conditional_edges(\"chatbot\", tools_called)\n",
    "graph_builder.add_edge(\"action\", \"chatbot\")\n",
    "graph_builder.set_entry_point(\"chatbot\")"
   ]
  },
  {
   "cell_type": "markdown",
   "id": "8a292dfe-764f-4561-90aa-71317d679d3e",
   "metadata": {},
   "source": [
    "Finally, compile the graph with the provided checkpointer."
   ]
  },
  {
   "cell_type": "code",
   "execution_count": 152,
   "id": "a06548bf-81fa-4436-b4c1-f68601fb4187",
   "metadata": {},
   "outputs": [],
   "source": [
    "graph = graph_builder.compile(checkpointer=memory)"
   ]
  },
  {
   "cell_type": "markdown",
   "id": "2c8265ef-e5b4-4c32-9856-5572b5652142",
   "metadata": {},
   "source": [
    "Now you can interact with your bot. First, pick a thread to use as the key for this conversation."
   ]
  },
  {
   "cell_type": "code",
   "execution_count": 153,
   "id": "be7b5abb-04ef-4d53-83d1-d4d3139cc43a",
   "metadata": {},
   "outputs": [],
   "source": [
    "import uuid\n",
    "\n",
    "thread_id = uuid.uuid4()\n",
    "\n",
    "config = {\"configurable\": {\"thread_id\": \"1\"}}"
   ]
  },
  {
   "cell_type": "markdown",
   "id": "d0b1a5ee-7fa2-475c-a9db-749694b90ba9",
   "metadata": {},
   "source": [
    "Next, call your chat bot."
   ]
  },
  {
   "cell_type": "code",
   "execution_count": 154,
   "id": "dba1b168-f8e0-496d-9bd6-37198fb4776e",
   "metadata": {},
   "outputs": [
    {
     "name": "stdout",
     "output_type": "stream",
     "text": [
      "Assistant: It's nice to meet you, Will! I'm an AI assistant here to help out however I can. Please let me know if you have any questions or if there's anything I can assist you with.\n"
     ]
    }
   ],
   "source": [
    "user_input = \"Hi there! My name is Will.\"\n",
    "\n",
    "# The config is the **second positional argument** to stream() or invoke()!\n",
    "events = graph.stream((\"user\", user_input), config)\n",
    "for event in events:\n",
    "    for value in event.values():\n",
    "        if isinstance(value, BaseMessage):\n",
    "            print(\"Assistant:\", value.content)"
   ]
  },
  {
   "cell_type": "markdown",
   "id": "33c6b470-5082-4c3e-b732-34de47c88735",
   "metadata": {},
   "source": [
    "**Note:** The config was provided as the second positional argument when calling our graph.\n",
    "\n",
    "Let's ask a followup: see if it remembers your name."
   ]
  },
  {
   "cell_type": "code",
   "execution_count": 155,
   "id": "f5447778-53d7-47f3-801b-f47bcf2185a0",
   "metadata": {},
   "outputs": [
    {
     "name": "stdout",
     "output_type": "stream",
     "text": [
      "Assistant: Yes, I remember your name is Will. It's a pleasure to meet you!\n"
     ]
    }
   ],
   "source": [
    "user_input = \"Remember my name?\"\n",
    "\n",
    "# The config is the **second positional argument** to stream() or invoke()!\n",
    "events = graph.stream((\"user\", user_input), config)\n",
    "for event in events:\n",
    "    for value in event.values():\n",
    "        if isinstance(value, BaseMessage):\n",
    "            print(\"Assistant:\", value.content)"
   ]
  },
  {
   "cell_type": "markdown",
   "id": "33be4cd8-f96f-4949-9d1f-48054502e5d0",
   "metadata": {},
   "source": [
    "Notice that we didn't manage the memory externally: it's all handled by the checkpointer!  Don't believe me? Try this using a different config.\n"
   ]
  },
  {
   "cell_type": "code",
   "execution_count": 156,
   "id": "4527cf9a-b191-4bde-858a-e33a74a48c55",
   "metadata": {},
   "outputs": [
    {
     "name": "stdout",
     "output_type": "stream",
     "text": [
      "Assistant: I'm afraid I don't actually have a memory of your name. As an AI assistant created by Anthropic, I don't have a persistent memory of our previous conversations or details about you specifically. I respond based on the current context, without retaining personal information about users I've interacted with. Could you please restate your request or provide more context so I can try to assist you further?\n"
     ]
    }
   ],
   "source": [
    "# The only difference is we change the `thread_id` here.\n",
    "events = graph.stream((\"user\", user_input), {\"configurable\": {\"thread_id\": \"2\"}})\n",
    "for event in events:\n",
    "    for value in event.values():\n",
    "        if isinstance(value, BaseMessage):\n",
    "            print(\"Assistant:\", value.content)"
   ]
  },
  {
   "cell_type": "markdown",
   "id": "5eeccbf0-ed74-4838-a7e9-31910d82b0b2",
   "metadata": {},
   "source": [
    "Notice that the only change we've included is to modify the `thread_id`. You can inspect a graph's state for a given config at any time."
   ]
  },
  {
   "cell_type": "code",
   "execution_count": 157,
   "id": "0be77c25-1423-4f2d-9b2d-28530cc761a4",
   "metadata": {},
   "outputs": [
    {
     "data": {
      "text/plain": [
       "StateSnapshot(values=[HumanMessage(content='Hi there! My name is Will.', id='bebbb390-3b1a-44c8-b09e-0a4cd6f67c99'), AIMessage(content=\"It's nice to meet you, Will! I'm an AI assistant here to help out however I can. Please let me know if you have any questions or if there's anything I can assist you with.\", response_metadata={'id': 'msg_013PQvadyH7ppuAcfZTj9h7g', 'model': 'claude-3-haiku-20240307', 'stop_reason': 'end_turn', 'stop_sequence': None, 'usage': {'input_tokens': 375, 'output_tokens': 45}}, id='run-8e135f45-565a-420e-b5bd-bd83e9961a53-0'), HumanMessage(content='Remember my name?', id='fc0f18a5-385e-41b9-a7d0-9dc0d1918b66'), AIMessage(content=\"Yes, I remember your name is Will. It's a pleasure to meet you!\", response_metadata={'id': 'msg_01U1Rzg6d2jFs7AUfxctcUbX', 'model': 'claude-3-haiku-20240307', 'stop_reason': 'end_turn', 'stop_sequence': None, 'usage': {'input_tokens': 427, 'output_tokens': 20}}, id='run-4ff1dbd1-6866-4210-a0c5-02d34fa92fe9-0')], next=(), config={'configurable': {'thread_id': '1', 'thread_ts': '2024-04-16T22:41:10.476499+00:00'}}, parent_config=None)"
      ]
     },
     "execution_count": 157,
     "metadata": {},
     "output_type": "execute_result"
    }
   ],
   "source": [
    "snapshot = graph.get_state(config)\n",
    "snapshot"
   ]
  },
  {
   "cell_type": "code",
   "execution_count": 158,
   "id": "c106bd09-f155-4e15-9120-c60c834106e5",
   "metadata": {},
   "outputs": [
    {
     "data": {
      "text/plain": [
       "()"
      ]
     },
     "execution_count": 158,
     "metadata": {},
     "output_type": "execute_result"
    }
   ],
   "source": [
    "snapshot.next  # (since the graph ended this turn, `next` is empty)"
   ]
  },
  {
   "cell_type": "markdown",
   "id": "1e44e619-34f9-4a93-8b94-795bebcf6510",
   "metadata": {},
   "source": [
    "You can even **manually update the state**! This means you ca greater control over the agent's trajectory. We will get into this more in Part 4."
   ]
  },
  {
   "cell_type": "code",
   "execution_count": 162,
   "id": "bfa698aa-a54d-48c5-ba01-a8bd466d76e5",
   "metadata": {},
   "outputs": [
    {
     "data": {
      "text/plain": [
       "{'configurable': {'thread_id': '1',\n",
       "  'thread_ts': '2024-04-16T22:49:47.136935+00:00'}}"
      ]
     },
     "execution_count": 162,
     "metadata": {},
     "output_type": "execute_result"
    }
   ],
   "source": [
    "from langchain_core.messages import HumanMessage\n",
    "\n",
    "# drop the last user question and AI message\n",
    "graph.update_state(\n",
    "    # Which state to update\n",
    "    config,\n",
    "    # The updated values to provide. MessageGraph is \"append-only\", meaning this will be appended\n",
    "    # to the existing state\n",
    "    [HumanMessage(content=\"I'm an AI expert!\")],\n",
    "    # Which node for this function to act as. It will automatically continue\n",
    "    # processing as if this node just ran.\n",
    "    as_node=\"chatbot\",\n",
    ")"
   ]
  },
  {
   "cell_type": "markdown",
   "id": "090b680b-f53f-4af2-a432-45f8c5a10779",
   "metadata": {},
   "source": [
    "We've appended the message \"I'm an AI expert\" to our graph's state, and the graph continues processing from the node provided in `as_node`. In our case, since we chose `\"chatbot\"`, the conditional edge runs next, and it immediately returns since no tool_calls are made."
   ]
  },
  {
   "cell_type": "code",
   "execution_count": 163,
   "id": "11d5b934-6d8b-4f52-a3bc-b3daa7207e00",
   "metadata": {},
   "outputs": [
    {
     "name": "stdout",
     "output_type": "stream",
     "text": [
      "Assistant: Okay, since you're an AI expert, I'm curious to hear what you're currently studying related to AI. What aspects of AI are you most interested in or focused on? I'm always eager to learn more about the latest developments and research in the field of artificial intelligence.\n"
     ]
    }
   ],
   "source": [
    "events = graph.stream((\"user\", \"Guess what I'm studying?\"), config)\n",
    "for event in events:\n",
    "    for value in event.values():\n",
    "        if isinstance(value, BaseMessage):\n",
    "            print(\"Assistant:\", value.content)"
   ]
  },
  {
   "cell_type": "markdown",
   "id": "627f4998-6780-4cce-8f3c-9a5580888e3a",
   "metadata": {},
   "source": [
    "**Congrats!** You've successfully added a **persistant checkpointer** to your graph. This lets you save each step of execution so you can handle **multi-turn conversations**, opens the door to more powerful human-in-the-loop workflows (up next), and time-travel debugging and exploration (later).\n",
    "\n",
    "LangGraph's checkpointing is done for graph as a whole and can handle **arbitrary states**, meaning it is much more powerful than simple ChatMessageHistory.\n",
    "\n",
    "\n",
    "This section's code is repeated below for you to copy.\n",
    "\n",
    "```python\n",
    "import uuid\n",
    "\n",
    "from langchain_anthropic import ChatAnthropic\n",
    "from langchain_community.tools.tavily_search import TavilySearchResults\n",
    "\n",
    "from langgraph.checkpoint.sqlite import SqliteSaver\n",
    "from langgraph.graph import MessageGraph\n",
    "from langgraph.prebuilt import ToolNode\n",
    "\n",
    "memory = SqliteSaver.from_conn_string(\":memory:\")\n",
    "\n",
    "tool = TavilySearchResults(max_results=2)\n",
    "tools = [tool]\n",
    "\n",
    "\n",
    "graph_builder = MessageGraph()\n",
    "\n",
    "chatbot = ChatAnthropic(model=\"claude-3-haiku-20240307\")\n",
    "graph_builder.add_node(\"chatbot\", chatbot.bind_tools(tools))\n",
    "\n",
    "tool_node = ToolNode(tools=[tool])\n",
    "graph_builder.add_node(\"action\", tool_node)\n",
    "\n",
    "\n",
    "def tools_called(state: list):\n",
    "    ai_message = state[-1]\n",
    "    if hasattr(ai_message, \"tool_calls\") and len(ai_message.tool_calls) > 0:\n",
    "        return \"action\"\n",
    "    return \"__end__\"\n",
    "\n",
    "\n",
    "graph_builder.add_conditional_edges(\"chatbot\", tools_called)\n",
    "graph_builder.add_edge(\"action\", \"chatbot\")\n",
    "graph_builder.set_entry_point(\"chatbot\")\n",
    "graph = graph_builder.compile(checkpointer=memory)\n",
    "\n",
    "thread_id = uuid.uuid4()\n",
    "\n",
    "config = {\"configurable\": {\"thread_id\": \"1\"}}\n",
    "graph.invoke((\"user\", \"Hi there!\"), config)\n",
    "```"
   ]
  },
  {
   "cell_type": "markdown",
   "id": "6f1da240-ec9b-441f-9d47-44c6dc85d540",
   "metadata": {},
   "source": [
    "## Part 4: Human-in-the-loop\n",
    "\n",
    "Agents can be unreliable and may need human input to successfully accomplish tasks. Similarly, for some actions, you may want to require human approval before running to ensure that everything is running as intended.\n",
    "\n",
    "LangGraph supports `human-in-the-loop` workflows in a number of ways, most commonly through `waiting_edge`'s.\n",
    "\n",
    "TODO:"
   ]
  },
  {
   "cell_type": "code",
   "execution_count": null,
   "id": "5a81608a-373a-4339-b1c6-65b73a92b983",
   "metadata": {},
   "outputs": [],
   "source": []
  },
  {
   "cell_type": "markdown",
   "id": "05283db2-2f26-4800-8eda-78a4468a3d8f",
   "metadata": {},
   "source": [
    "## Part 5: Time Travel\n",
    "\n",
    "TODO"
   ]
  },
  {
   "cell_type": "markdown",
   "id": "e584d57f-5aad-4507-815f-0b2e4b64b791",
   "metadata": {},
   "source": [
    "## Conclusion\n",
    "\n",
    "Congrats! You've completed the intro tutorial. In this tutorial, you've gbuil"
   ]
  },
  {
   "cell_type": "code",
   "execution_count": null,
   "id": "879660dd-326c-4ed2-9134-1ab9bdf4f595",
   "metadata": {},
   "outputs": [],
   "source": []
  }
 ],
 "metadata": {
  "kernelspec": {
   "display_name": "Python 3 (ipykernel)",
   "language": "python",
   "name": "python3"
  },
  "language_info": {
   "codemirror_mode": {
    "name": "ipython",
    "version": 3
   },
   "file_extension": ".py",
   "mimetype": "text/x-python",
   "name": "python",
   "nbconvert_exporter": "python",
   "pygments_lexer": "ipython3",
   "version": "3.11.2"
  }
 },
 "nbformat": 4,
 "nbformat_minor": 5
}
